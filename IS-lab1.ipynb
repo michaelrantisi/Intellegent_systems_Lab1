{
 "cells": [
  {
   "cell_type": "code",
   "execution_count": 178,
   "metadata": {},
   "outputs": [],
   "source": [
    "import numpy as np\n",
    "from skimage.io import imread\n",
    "from skimage.color import rgb2gray, rgb2hsv\n",
    "from skimage.morphology import disk\n",
    "from skimage.filters import threshold_otsu\n",
    "from scipy.ndimage import binary_fill_holes\n",
    "from skimage.morphology import opening\n",
    "from skimage.measure import label, regionprops\n",
    "from sklearn.model_selection import train_test_split\n"
   ]
  },
  {
   "cell_type": "code",
   "execution_count": 179,
   "metadata": {},
   "outputs": [],
   "source": [
    "# Function to calculate color (hue in HSV color space)\n",
    "def spalva_color(img):\n",
    "    hsv_img = rgb2hsv(img)\n",
    "    h_channel = hsv_img[:, :, 0]\n",
    "    gray_img = rgb2gray(img)\n",
    "    thresh = threshold_otsu(gray_img)\n",
    "    bw = gray_img > thresh\n",
    "    bw = binary_fill_holes(~bw)\n",
    "    bw = opening(bw, disk(12))\n",
    "    masked_hue = h_channel[bw]\n",
    "    hsv_value = np.mean(masked_hue)\n",
    "    return hsv_value\n"
   ]
  },
  {
   "cell_type": "code",
   "execution_count": 180,
   "metadata": {},
   "outputs": [],
   "source": [
    "# Function to calculate roundness\n",
    "def apvalumas_roundness(img):\n",
    "    gray_img = rgb2gray(img)\n",
    "    thresh = threshold_otsu(gray_img)\n",
    "    bw = gray_img > thresh\n",
    "    bw = binary_fill_holes(~bw)\n",
    "    bw = opening(bw, disk(12))\n",
    "    props = regionprops(label(bw))\n",
    "    area = props[0].area\n",
    "    perimeter = props[0].perimeter\n",
    "    roundness = 4 * np.pi * area / (perimeter ** 2)\n",
    "    return roundness"
   ]
  },
  {
   "cell_type": "code",
   "execution_count": 181,
   "metadata": {},
   "outputs": [],
   "source": [
    "apple_images = ['apple_04.jpg','apple_05.jpg', 'apple_06.jpg', 'apple_07.jpg', 'apple_11.jpg', 'apple_12.jpg', 'apple_13.jpg', 'apple_17.jpg', 'apple_19.jpg']\n",
    "pear_images = ['pear_02.jpg', 'pear_09.jpg', 'pear_01.jpg','pear_03.jpg' ]\n"
   ]
  },
  {
   "cell_type": "code",
   "execution_count": 182,
   "metadata": {},
   "outputs": [],
   "source": [
    "# Compute features \n",
    "hsv_values_apples = [spalva_color(imread(img)) for img in apple_images]\n",
    "roundness_apples = [apvalumas_roundness(imread(img)) for img in apple_images]\n",
    "hsv_values_pears = [spalva_color(imread(img)) for img in pear_images]\n",
    "roundness_pears = [apvalumas_roundness(imread(img)) for img in pear_images]"
   ]
  },
  {
   "cell_type": "code",
   "execution_count": 183,
   "metadata": {},
   "outputs": [],
   "source": [
    "# Combine features and labels for classification\n",
    "x1 = np.array(hsv_values_apples + hsv_values_pears)\n",
    "x2 = np.array(roundness_apples + roundness_pears)    \n",
    "features = np.column_stack((x1, x2)) \n",
    "labels = np.array([1] * len(apple_images) + [-1] * len(pear_images))  # 1 for apples, -1 for pears\n",
    "\n"
   ]
  },
  {
   "cell_type": "code",
   "execution_count": 184,
   "metadata": {},
   "outputs": [],
   "source": [
    "# Split the data into training and testing sets (80% train, 20% test)\n",
    "X_train, X_test, y_train, y_test = train_test_split(features, labels, test_size=0.2, random_state=42)\n"
   ]
  },
  {
   "cell_type": "code",
   "execution_count": 185,
   "metadata": {},
   "outputs": [],
   "source": [
    "# Initialize random weights and bias\n",
    "w1 = np.random.randn()\n",
    "w2 = np.random.randn()\n",
    "b = np.random.randn()\n",
    "eta = 0.1"
   ]
  },
  {
   "cell_type": "code",
   "execution_count": 186,
   "metadata": {},
   "outputs": [
    {
     "name": "stdout",
     "output_type": "stream",
     "text": [
      "Sample 1: Classified as Apple\n",
      "Sample 2: Classified as Apple\n",
      "Sample 3: Classified as Apple\n",
      "Sample 4: Classified as Apple\n",
      "Sample 5: Classified as Apple\n"
     ]
    }
   ],
   "source": [
    "# Classification before training \n",
    "for i in range(5): \n",
    "    v = x1[i] * w1 + x2[i] * w2 + b # percep rule\n",
    "    if v > 0:\n",
    "        y = 1  # Classified as apple.\n",
    "    else:\n",
    "        y = -1  # Classified as pear.\n",
    "    print(f\"Sample {i+1}: Classified as {'Apple' if y == 1 else 'Pear'}\")"
   ]
  },
  {
   "cell_type": "code",
   "execution_count": 187,
   "metadata": {},
   "outputs": [
    {
     "name": "stdout",
     "output_type": "stream",
     "text": [
      "Epoch 1: Total Error = 8\n",
      "Epoch 2: Total Error = 8\n",
      "Epoch 3: Total Error = 8\n",
      "Epoch 4: Total Error = 6\n",
      "Epoch 5: Total Error = 8\n",
      "Epoch 6: Total Error = 8\n",
      "Epoch 7: Total Error = 6\n",
      "Epoch 8: Total Error = 8\n",
      "Epoch 9: Total Error = 6\n",
      "Epoch 10: Total Error = 8\n",
      "Epoch 11: Total Error = 2\n",
      "Epoch 12: Total Error = 4\n",
      "Epoch 13: Total Error = 0\n"
     ]
    }
   ],
   "source": [
    "#training\n",
    "\n",
    "max_epochs = 100  \n",
    "for epoch in range(max_epochs):\n",
    "    total_error = 0\n",
    "    for i in range(len(X_train)):  \n",
    "        v = X_train[i, 0] * w1 + X_train[i, 1] * w2 + b\n",
    "        if v > 0:\n",
    "            y = 1  # Classified as apple.\n",
    "        else:\n",
    "            y = -1  # Classified as pear.\n",
    "        e = y_train[i] - y  \n",
    "        total_error += abs(e)\n",
    "        w1 += eta * e * X_train[i, 0]\n",
    "        w2 += eta * e * X_train[i, 1]\n",
    "        b += eta * e\n",
    "    print(f\"Epoch {epoch + 1}: Total Error = {total_error}\")\n",
    "    if total_error == 0:\n",
    "        break\n"
   ]
  },
  {
   "cell_type": "code",
   "execution_count": 188,
   "metadata": {},
   "outputs": [
    {
     "name": "stdout",
     "output_type": "stream",
     "text": [
      "Test accuracy: 100.00%\n"
     ]
    }
   ],
   "source": [
    "#testing\n",
    "correct = 0\n",
    "for i in range(len(X_test)):\n",
    "    v = X_test[i, 0] * w1 + X_test[i, 1] * w2 + b\n",
    "    if v > 0:\n",
    "        y = 1  # Classified as apple.\n",
    "    else:\n",
    "        y = -1  # Classified as pear.\n",
    "    if y == y_test[i]:\n",
    "        correct += 1\n",
    "\n",
    "accuracy = correct / len(X_test)\n",
    "print(f\"Test accuracy: {accuracy * 100:.2f}%\")\n"
   ]
  }
 ],
 "metadata": {
  "kernelspec": {
   "display_name": "base",
   "language": "python",
   "name": "python3"
  },
  "language_info": {
   "codemirror_mode": {
    "name": "ipython",
    "version": 3
   },
   "file_extension": ".py",
   "mimetype": "text/x-python",
   "name": "python",
   "nbconvert_exporter": "python",
   "pygments_lexer": "ipython3",
   "version": "3.11.3"
  }
 },
 "nbformat": 4,
 "nbformat_minor": 2
}
